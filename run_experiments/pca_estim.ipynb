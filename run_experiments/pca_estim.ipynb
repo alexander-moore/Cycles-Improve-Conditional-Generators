{
 "cells": [
  {
   "cell_type": "code",
   "execution_count": 5,
   "metadata": {
    "scrolled": true
   },
   "outputs": [
    {
     "name": "stdout",
     "output_type": "stream",
     "text": [
      "cuda\n"
     ]
    },
    {
     "ename": "FileNotFoundError",
     "evalue": "[WinError 3] The system cannot find the path specified: '../model_sets/cyc_caegan_cifar/'",
     "output_type": "error",
     "traceback": [
      "\u001b[1;31m---------------------------------------------------------------------------\u001b[0m",
      "\u001b[1;31mFileNotFoundError\u001b[0m                         Traceback (most recent call last)",
      "\u001b[1;32m<ipython-input-5-368718dcc986>\u001b[0m in \u001b[0;36m<module>\u001b[1;34m\u001b[0m\n\u001b[0;32m     43\u001b[0m     \u001b[1;32mfor\u001b[0m \u001b[0mexperiment\u001b[0m \u001b[1;32min\u001b[0m \u001b[0mrange\u001b[0m\u001b[1;33m(\u001b[0m\u001b[0mnum_expirs\u001b[0m\u001b[1;33m)\u001b[0m\u001b[1;33m:\u001b[0m\u001b[1;33m\u001b[0m\u001b[1;33m\u001b[0m\u001b[0m\n\u001b[0;32m     44\u001b[0m         \u001b[0mi\u001b[0m \u001b[1;33m=\u001b[0m \u001b[1;36m0\u001b[0m\u001b[1;33m\u001b[0m\u001b[1;33m\u001b[0m\u001b[0m\n\u001b[1;32m---> 45\u001b[1;33m         \u001b[1;32mfor\u001b[0m \u001b[0mfilename\u001b[0m \u001b[1;32min\u001b[0m \u001b[0mos\u001b[0m\u001b[1;33m.\u001b[0m\u001b[0mlistdir\u001b[0m\u001b[1;33m(\u001b[0m\u001b[0mdirectory\u001b[0m\u001b[1;33m)\u001b[0m\u001b[1;33m:\u001b[0m\u001b[1;33m\u001b[0m\u001b[1;33m\u001b[0m\u001b[0m\n\u001b[0m\u001b[0;32m     46\u001b[0m             \u001b[0mprint\u001b[0m\u001b[1;33m(\u001b[0m\u001b[0mdirectory\u001b[0m\u001b[1;33m+\u001b[0m\u001b[0mfilename\u001b[0m\u001b[1;33m)\u001b[0m\u001b[1;33m\u001b[0m\u001b[1;33m\u001b[0m\u001b[0m\n\u001b[0;32m     47\u001b[0m             \u001b[0mG\u001b[0m\u001b[1;33m.\u001b[0m\u001b[0mload_state_dict\u001b[0m\u001b[1;33m(\u001b[0m\u001b[0mtorch\u001b[0m\u001b[1;33m.\u001b[0m\u001b[0mload\u001b[0m\u001b[1;33m(\u001b[0m\u001b[0mdirectory\u001b[0m\u001b[1;33m+\u001b[0m\u001b[0mfilename\u001b[0m\u001b[1;33m)\u001b[0m\u001b[1;33m)\u001b[0m\u001b[1;33m\u001b[0m\u001b[1;33m\u001b[0m\u001b[0m\n",
      "\u001b[1;31mFileNotFoundError\u001b[0m: [WinError 3] The system cannot find the path specified: '../model_sets/cyc_caegan_cifar/'"
     ]
    }
   ],
   "source": [
    "from sklearn.decomposition import PCA\n",
    "import torch\n",
    "import g_arches\n",
    "import os\n",
    "import numpy as np\n",
    "\n",
    "torch.cuda.empty_cache()\n",
    "\n",
    "device = torch.device('cuda' if torch.cuda.is_available() else 'cpu')\n",
    "print(device)\n",
    "def get_codes(size, hardware = device, hot = True):\n",
    "    if hot == True:\n",
    "        return one_hot_embedding(torch.randint(c_dim, size = (size, 1), device = hardware)).float()\n",
    "\n",
    "    else:\n",
    "        return torch.randint(c_dim, size = (size, 1), device = hardware)\n",
    "\n",
    "def one_hot_embedding(labels, hot = True):\n",
    "    #y = torch.eye(num_classes)\n",
    "    #return y[labels]\n",
    "    #return torch.nn.functional.one_hot(labels)[:,1:]\n",
    "\n",
    "    labels = torch.nn.functional.one_hot(torch.tensor(labels).to(torch.int64), num_classes = c_dim)\n",
    "    if hot == True:\n",
    "        return torch.squeeze(labels).to(device)\n",
    "    else:\n",
    "        return torch.squeeze(labels).to(device)\n",
    "\n",
    "\n",
    "\n",
    "v_dim = 100\n",
    "c_dim = 10\n",
    "cifar_subset_num = 1000 #2000\n",
    "directory = '../model_sets/cyc_caegan_cifar/'\n",
    "#reses = []\n",
    "G = g_arches.rgb_32_C_AE(v_dim, c_dim)\n",
    "#G = g_arches.rgb_32_G(v_dim)\n",
    "\n",
    "num_expirs = 10\n",
    "\n",
    "reses = torch.zeros((num_expirs,10))\n",
    "with torch.no_grad():\n",
    "    for experiment in range(num_expirs):\n",
    "        i = 0\n",
    "        for filename in os.listdir(directory):\n",
    "            print(directory+filename)\n",
    "            G.load_state_dict(torch.load(directory+filename))\n",
    "            G = G.eval()\n",
    "            G = G.to(device)\n",
    "            v = torch.randn((cifar_subset_num, v_dim, 1, 1), device = device)\n",
    "            codes = one_hot_embedding(experiment*torch.ones(cifar_subset_num)).view(cifar_subset_num, c_dim, 1, 1).float()\n",
    "\n",
    "            outputs = G(v, codes).view(cifar_subset_num, -1).cpu()\n",
    "            #outputs = G(v).view(cifar_subset_num, -1).cpu()\n",
    "            pca_mod = PCA().fit(outputs)\n",
    "\n",
    "            cumsums = np.cumsum(pca_mod.explained_variance_ratio_)\n",
    "            res = next(x for x, val in enumerate(cumsums) \n",
    "                                          if val > 0.95)\n",
    "            print (\"The index of element just greater than 0.95 : \"\n",
    "                                                   + str(res))\n",
    "            reses[experiment, i] = res\n",
    "            i+=1\n",
    "            \n",
    "print(reses)\n",
    "import winsound\n",
    "duration = 600  # milliseconds\n",
    "freq = 350  # Hz\n",
    "winsound.Beep(freq, duration)"
   ]
  },
  {
   "cell_type": "code",
   "execution_count": null,
   "metadata": {},
   "outputs": [],
   "source": [
    "print(reses.shape)\n",
    "# 1 row = 1 batch of a model\n",
    "# 1 col = a model thru experiments (classes 0,...9)"
   ]
  },
  {
   "cell_type": "code",
   "execution_count": null,
   "metadata": {},
   "outputs": [],
   "source": [
    "print(reses.sum(dim=1))"
   ]
  },
  {
   "cell_type": "code",
   "execution_count": null,
   "metadata": {},
   "outputs": [],
   "source": [
    "torch.save(reses, 'cyc_caegan_class_dims.pt')"
   ]
  },
  {
   "cell_type": "code",
   "execution_count": null,
   "metadata": {},
   "outputs": [],
   "source": [
    "import matplotlib.pyplot as plt\n",
    "import os\n",
    "import torch\n",
    "names = ['ACGAN', 'CAEGAN', 'CCAEGAN', 'CGAN', 'ICAEGAN']\n",
    "i=0\n",
    "for filename in os.listdir():\n",
    "    if filename.endswith('class_dims.pt'):\n",
    "        print(filename)\n",
    "        file = torch.load(filename)\n",
    "        print(file.sum(dim=1))\n",
    "        plt.scatter(range(10), file.sum(dim=1) / 10, label = names[i])\n",
    "        i+=1\n",
    "plt.ylabel('Estimated Class Manifold Dimension')\n",
    "classes = ('plane', 'car', 'bird', 'cat',\n",
    "               'deer', 'dog', 'frog', 'horse', 'ship', 'truck')\n",
    "plt.xlabel(classes)\n",
    "plt.tick_params(\n",
    "    axis='x',          # changes apply to the x-axis\n",
    "    which='both',      # both major and minor ticks are affected\n",
    "    bottom=True,      # ticks along the bottom edge are off\n",
    "    top=False,         # ticks along the top edge are off\n",
    "    labelbottom=False) # labels along the bottom edge are off\n",
    "plt.title('')\n",
    "plt.legend(loc = 'best')\n",
    "#plt.rcParams[\"figure.figsize\"] = (9,10)\n",
    "plt.show()"
   ]
  },
  {
   "cell_type": "code",
   "execution_count": null,
   "metadata": {},
   "outputs": [],
   "source": []
  },
  {
   "cell_type": "code",
   "execution_count": 32,
   "metadata": {},
   "outputs": [
    {
     "data": {
      "image/png": "[encoded data removed]",
      "text/plain": [
       "<Figure size 640x480 with 1 Axes>"
      ]
     },
     "metadata": {},
     "output_type": "display_data"
    }
   ],
   "source": [
    "# import matplotlib.pyplot as plt\n",
    "\n",
    "# inds = ['Plane', 'Car', 'Bird', 'Cat', 'Deer', 'Dog', 'Frog', 'Horse', 'Ship', 'Truck']\n",
    "\n",
    "# cgan = [161, 168, 162, 164, 164.5, 163, 160.5, 165, 162, 168]\n",
    "# icaegan = [140.5, 146, 141, 140, 139.5, 141.5, 116, 142, 139, 145]\n",
    "\n",
    "# acgan = [137.5, 140, 136, 135, 139.5, 141.5, 116, 142, 139, 145]\n",
    "# ccaegan = [140.5, 146, 141, 140, 139.5, 141.5, 116, 142, 139, 145]\n",
    "# caegan = [140.5, 146, 141, 140, 139.5, 141.5, 116, 142, 139, 145]\n",
    "\n",
    "# plt.scatter(inds, acgan, label = 'ACGAN')\n",
    "# plt.scatter(inds, caegan, label = 'CAEGAN')\n",
    "# plt.scatter(inds, ccaegan, label = 'CCAEGAN')\n",
    "# plt.scatter(inds, cgan, label = 'CGAN')\n",
    "# plt.scatter(inds, icaegan, label = 'ICAEGAN')\n",
    "# plt.legend(loc='upper center', bbox_to_anchor=(0.47, 1.16),\n",
    "#           ncol=3, fancybox=True, shadow=True)\n",
    "# plt.show()"
   ]
  },
  {
   "cell_type": "code",
   "execution_count": null,
   "metadata": {},
   "outputs": [],
   "source": []
  }
 ],
 "metadata": {
  "kernelspec": {
   "display_name": "Python 3",
   "language": "python",
   "name": "python3"
  },
  "language_info": {
   "codemirror_mode": {
    "name": "ipython",
    "version": 3
   },
   "file_extension": ".py",
   "mimetype": "text/x-python",
   "name": "python",
   "nbconvert_exporter": "python",
   "pygments_lexer": "ipython3",
   "version": "3.8.8"
  }
 },
 "nbformat": 4,
 "nbformat_minor": 4
}
