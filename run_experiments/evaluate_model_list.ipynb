{
 "cells": [
  {
   "cell_type": "markdown",
   "metadata": {},
   "source": [
    "# This notebook should be able to\n",
    "1. Load a generative model\n",
    "2. Create a dataset of samples drawn from the generative model with conditions\n",
    "3. Map this dataset into a dataloader\n",
    "4. Train a supervised model on this dataloader\n",
    "5. Test the supervised model on the real cifar test-loader\n",
    "\n"
   ]
  },
  {
   "cell_type": "code",
   "execution_count": 1,
   "metadata": {},
   "outputs": [
    {
     "name": "stdout",
     "output_type": "stream",
     "text": [
      "cuda\n"
     ]
    }
   ],
   "source": [
    "import matplotlib.pyplot as plt\n",
    "import itertools\n",
    "import torch\n",
    "import torch.nn as nn\n",
    "import torch.nn.functional as F\n",
    "import torch.optim as optim\n",
    "import torchvision.datasets as dset\n",
    "import torchvision.transforms as transforms\n",
    "import tensorflow_datasets as tfds\n",
    "import torchvision\n",
    "from tensorflow.keras.datasets import cifar10\n",
    "import os\n",
    "from torch.autograd import Variable\n",
    "from torch.utils.data.dataset import Dataset\n",
    "\n",
    "device = torch.device('cuda' if torch.cuda.is_available() else 'cpu')\n",
    "print(device)"
   ]
  },
  {
   "cell_type": "code",
   "execution_count": 2,
   "metadata": {},
   "outputs": [],
   "source": [
    "import g_arches\n",
    "import model_to_fid\n",
    "import ae_to_disentangle\n",
    "\n",
    "model = g_arches.rgb_32_C_AE(100, 10).to(device)\n",
    "\n",
    "report_fid_fjd = True\n",
    "report_dci_sap = False\n"
   ]
  },
  {
   "cell_type": "code",
   "execution_count": 3,
   "metadata": {},
   "outputs": [
    {
     "name": "stdout",
     "output_type": "stream",
     "text": [
      "model_sets/cyc_caegan_cifar/cyc_caegan_cifar_0_G.pt\n",
      "Files already downloaded and verified\n",
      "Files already downloaded and verified\n"
     ]
    },
    {
     "name": "stderr",
     "output_type": "stream",
     "text": [
      "\r",
      "Computing generated distribution:   0%|                                                         | 0/19 [00:00<?, ?it/s]"
     ]
    },
    {
     "name": "stdout",
     "output_type": "stream",
     "text": [
      "Loading reference statistics from datasets/cifar_train_stats.npz\n"
     ]
    },
    {
     "name": "stderr",
     "output_type": "stream",
     "text": [
      "Computing generated distribution: 100%|████████████████████████████████████████████████| 19/19 [04:07<00:00, 13.04s/it]\n",
      "Computing generated distribution: 100%|████████████████████████████████████████████████| 19/19 [04:32<00:00, 14.37s/it]\n"
     ]
    },
    {
     "name": "stdout",
     "output_type": "stream",
     "text": [
      "FID:  32.907297138216336\n",
      "FJD:  39.69533544700198\n",
      "model_sets/cyc_caegan_cifar/cyc_caegan_cifar_1_G.pt\n",
      "Files already downloaded and verified\n",
      "Files already downloaded and verified\n"
     ]
    },
    {
     "name": "stderr",
     "output_type": "stream",
     "text": [
      "\r",
      "Computing generated distribution:   0%|                                                         | 0/19 [00:00<?, ?it/s]"
     ]
    },
    {
     "name": "stdout",
     "output_type": "stream",
     "text": [
      "Loading reference statistics from datasets/cifar_train_stats.npz\n"
     ]
    },
    {
     "name": "stderr",
     "output_type": "stream",
     "text": [
      "Computing generated distribution: 100%|████████████████████████████████████████████████| 19/19 [04:03<00:00, 12.80s/it]\n",
      "Computing generated distribution: 100%|████████████████████████████████████████████████| 19/19 [04:02<00:00, 12.78s/it]\n"
     ]
    },
    {
     "name": "stdout",
     "output_type": "stream",
     "text": [
      "FID:  37.57332656105655\n",
      "FJD:  43.69364554260346\n",
      "model_sets/cyc_caegan_cifar/cyc_caegan_cifar_2_G.pt\n",
      "Files already downloaded and verified\n",
      "Files already downloaded and verified\n"
     ]
    },
    {
     "name": "stderr",
     "output_type": "stream",
     "text": [
      "\r",
      "Computing generated distribution:   0%|                                                         | 0/19 [00:00<?, ?it/s]"
     ]
    },
    {
     "name": "stdout",
     "output_type": "stream",
     "text": [
      "Loading reference statistics from datasets/cifar_train_stats.npz\n"
     ]
    },
    {
     "name": "stderr",
     "output_type": "stream",
     "text": [
      "Computing generated distribution: 100%|████████████████████████████████████████████████| 19/19 [04:08<00:00, 13.10s/it]\n",
      "Computing generated distribution: 100%|████████████████████████████████████████████████| 19/19 [04:14<00:00, 13.40s/it]\n"
     ]
    },
    {
     "name": "stdout",
     "output_type": "stream",
     "text": [
      "FID:  35.01244006582681\n",
      "FJD:  42.4217072071292\n",
      "model_sets/cyc_caegan_cifar/cyc_caegan_cifar_3_G.pt\n",
      "Files already downloaded and verified\n",
      "Files already downloaded and verified\n"
     ]
    },
    {
     "name": "stderr",
     "output_type": "stream",
     "text": [
      "\r",
      "Computing generated distribution:   0%|                                                         | 0/19 [00:00<?, ?it/s]"
     ]
    },
    {
     "name": "stdout",
     "output_type": "stream",
     "text": [
      "Loading reference statistics from datasets/cifar_train_stats.npz\n"
     ]
    },
    {
     "name": "stderr",
     "output_type": "stream",
     "text": [
      "Computing generated distribution: 100%|████████████████████████████████████████████████| 19/19 [04:20<00:00, 13.72s/it]\n",
      "Computing generated distribution: 100%|████████████████████████████████████████████████| 19/19 [04:18<00:00, 13.59s/it]\n"
     ]
    },
    {
     "name": "stdout",
     "output_type": "stream",
     "text": [
      "FID:  39.84029426269524\n",
      "FJD:  48.09859641678213\n",
      "model_sets/cyc_caegan_cifar/cyc_caegan_cifar_4_G.pt\n",
      "Files already downloaded and verified\n",
      "Files already downloaded and verified\n"
     ]
    },
    {
     "name": "stderr",
     "output_type": "stream",
     "text": [
      "\r",
      "Computing generated distribution:   0%|                                                         | 0/19 [00:00<?, ?it/s]"
     ]
    },
    {
     "name": "stdout",
     "output_type": "stream",
     "text": [
      "Loading reference statistics from datasets/cifar_train_stats.npz\n"
     ]
    },
    {
     "name": "stderr",
     "output_type": "stream",
     "text": [
      "Computing generated distribution: 100%|████████████████████████████████████████████████| 19/19 [04:10<00:00, 13.18s/it]\n",
      "Computing generated distribution: 100%|████████████████████████████████████████████████| 19/19 [04:09<00:00, 13.14s/it]\n"
     ]
    },
    {
     "name": "stdout",
     "output_type": "stream",
     "text": [
      "FID:  32.072965243946214\n",
      "FJD:  38.65042371698064\n",
      "model_sets/cyc_caegan_cifar/cyc_caegan_cifar_5_G.pt\n",
      "Files already downloaded and verified\n",
      "Files already downloaded and verified\n"
     ]
    },
    {
     "name": "stderr",
     "output_type": "stream",
     "text": [
      "\r",
      "Computing generated distribution:   0%|                                                         | 0/19 [00:00<?, ?it/s]"
     ]
    },
    {
     "name": "stdout",
     "output_type": "stream",
     "text": [
      "Loading reference statistics from datasets/cifar_train_stats.npz\n"
     ]
    },
    {
     "name": "stderr",
     "output_type": "stream",
     "text": [
      "Computing generated distribution: 100%|████████████████████████████████████████████████| 19/19 [04:10<00:00, 13.19s/it]\n",
      "Computing generated distribution: 100%|████████████████████████████████████████████████| 19/19 [04:15<00:00, 13.45s/it]\n"
     ]
    },
    {
     "name": "stdout",
     "output_type": "stream",
     "text": [
      "FID:  38.010561557336416\n",
      "FJD:  45.989573222006356\n",
      "model_sets/cyc_caegan_cifar/cyc_caegan_cifar_6_G.pt\n",
      "Files already downloaded and verified\n",
      "Files already downloaded and verified\n"
     ]
    },
    {
     "name": "stderr",
     "output_type": "stream",
     "text": [
      "\r",
      "Computing generated distribution:   0%|                                                         | 0/19 [00:00<?, ?it/s]"
     ]
    },
    {
     "name": "stdout",
     "output_type": "stream",
     "text": [
      "Loading reference statistics from datasets/cifar_train_stats.npz\n"
     ]
    },
    {
     "name": "stderr",
     "output_type": "stream",
     "text": [
      "Computing generated distribution: 100%|████████████████████████████████████████████████| 19/19 [04:12<00:00, 13.29s/it]\n",
      "Computing generated distribution: 100%|████████████████████████████████████████████████| 19/19 [04:10<00:00, 13.20s/it]\n"
     ]
    },
    {
     "name": "stdout",
     "output_type": "stream",
     "text": [
      "FID:  37.410085667682665\n",
      "FJD:  45.66606671539989\n",
      "model_sets/cyc_caegan_cifar/cyc_caegan_cifar_7_G.pt\n",
      "Files already downloaded and verified\n",
      "Files already downloaded and verified\n"
     ]
    },
    {
     "name": "stderr",
     "output_type": "stream",
     "text": [
      "\r",
      "Computing generated distribution:   0%|                                                         | 0/19 [00:00<?, ?it/s]"
     ]
    },
    {
     "name": "stdout",
     "output_type": "stream",
     "text": [
      "Loading reference statistics from datasets/cifar_train_stats.npz\n"
     ]
    },
    {
     "name": "stderr",
     "output_type": "stream",
     "text": [
      "Computing generated distribution: 100%|████████████████████████████████████████████████| 19/19 [04:09<00:00, 13.12s/it]\n",
      "Computing generated distribution: 100%|████████████████████████████████████████████████| 19/19 [04:08<00:00, 13.10s/it]\n"
     ]
    },
    {
     "name": "stdout",
     "output_type": "stream",
     "text": [
      "FID:  31.334213118265836\n",
      "FJD:  38.57655510228324\n",
      "model_sets/cyc_caegan_cifar/cyc_caegan_cifar_8_G.pt\n",
      "Files already downloaded and verified\n",
      "Files already downloaded and verified\n"
     ]
    },
    {
     "name": "stderr",
     "output_type": "stream",
     "text": [
      "\r",
      "Computing generated distribution:   0%|                                                         | 0/19 [00:00<?, ?it/s]"
     ]
    },
    {
     "name": "stdout",
     "output_type": "stream",
     "text": [
      "Loading reference statistics from datasets/cifar_train_stats.npz\n"
     ]
    },
    {
     "name": "stderr",
     "output_type": "stream",
     "text": [
      "Computing generated distribution: 100%|████████████████████████████████████████████████| 19/19 [04:10<00:00, 13.17s/it]\n",
      "Computing generated distribution: 100%|████████████████████████████████████████████████| 19/19 [04:16<00:00, 13.48s/it]\n"
     ]
    },
    {
     "name": "stdout",
     "output_type": "stream",
     "text": [
      "FID:  35.199414594681855\n",
      "FJD:  43.00586086078829\n",
      "model_sets/cyc_caegan_cifar/cyc_caegan_cifar_9_G.pt\n",
      "Files already downloaded and verified\n",
      "Files already downloaded and verified\n"
     ]
    },
    {
     "name": "stderr",
     "output_type": "stream",
     "text": [
      "\r",
      "Computing generated distribution:   0%|                                                         | 0/19 [00:00<?, ?it/s]"
     ]
    },
    {
     "name": "stdout",
     "output_type": "stream",
     "text": [
      "Loading reference statistics from datasets/cifar_train_stats.npz\n"
     ]
    },
    {
     "name": "stderr",
     "output_type": "stream",
     "text": [
      "Computing generated distribution: 100%|████████████████████████████████████████████████| 19/19 [04:12<00:00, 13.30s/it]\n",
      "Computing generated distribution: 100%|████████████████████████████████████████████████| 19/19 [04:10<00:00, 13.20s/it]\n"
     ]
    },
    {
     "name": "stdout",
     "output_type": "stream",
     "text": [
      "FID:  37.8489813238773\n",
      "FJD:  46.529492460107576\n"
     ]
    }
   ],
   "source": [
    "directory = 'model_sets/cyc_caegan_cifar/'\n",
    "\n",
    "fids, fjds = [], []\n",
    "dcis, saps = [], []\n",
    "for filename in os.listdir(directory):\n",
    "    if filename.endswith('.pt'):\n",
    "        model.load_state_dict(torch.load(directory+filename))\n",
    "        print(directory+filename)\n",
    "        \n",
    "        if report_fid_fjd == True:\n",
    "            #samples_per at 1!\n",
    "            fid, fjd = model_to_fid.get_fid_fjd(model, conditioning = True, samples_per_condition = 6)\n",
    "            \n",
    "            fids.append(fid)\n",
    "            fjds.append(fjd)\n",
    "            \n",
    "        # For disentanglement scores, we will need models trained on Shapes3d...\n",
    "        if report_dci_sap == True:\n",
    "            dci, sap = ae_to_disentangle.get_disentanglement(model, 'CIFAR10')\n",
    "            print(dci, sap)\n",
    "            dcis.append(dci)\n",
    "            saps.append(sap)\n",
    "        \n",
    "        \n",
    "        ######### ALEX I CHANGED THE MODEL_TO_FID FILE TO HAVE BS = 512 (FROM 256)"
   ]
  },
  {
   "cell_type": "code",
   "execution_count": 4,
   "metadata": {},
   "outputs": [
    {
     "name": "stdout",
     "output_type": "stream",
     "text": [
      "fid mean and se 35.72095795335852 +- 0.272518247027721\n",
      "fid mean and se 43.23272566910828 +- 0.3227676212273982\n"
     ]
    }
   ],
   "source": [
    "import statistics\n",
    "fid_mean = sum(fids) / len(fids)\n",
    "fid_var = sum((x-fid_mean)**2 for x in fids) / len(fids)\n",
    "fid_stdev = fid_var**0.5\n",
    "fid_se = fid_stdev / len(fids)\n",
    "print('fid mean and se', fid_mean, '+-', fid_se)\n",
    "\n",
    "\n",
    "fjd_mean = sum(fjds) / len(fjds)\n",
    "fjd_var = sum((x-fjd_mean)**2 for x in fjds) / len(fjds)\n",
    "fjd_stdev = fjd_var**0.5\n",
    "fjd_se = fjd_stdev / len(fjds)\n",
    "print('fid mean and se', fjd_mean, '+-', fjd_se)\n",
    "\n"
   ]
  },
  {
   "cell_type": "code",
   "execution_count": 5,
   "metadata": {},
   "outputs": [
    {
     "data": {
      "image/png": "[encoded data removed]",
      "text/plain": [
       "<Figure size 432x288 with 1 Axes>"
      ]
     },
     "metadata": {
      "needs_background": "light"
     },
     "output_type": "display_data"
    }
   ],
   "source": [
    "plt.hist(fids, bins = 5, label = 'fids')\n",
    "plt.hist(fjds, bins = 5, label = 'fjds')\n",
    "plt.legend(loc = 'best')\n",
    "plt.show()"
   ]
  },
  {
   "cell_type": "code",
   "execution_count": 6,
   "metadata": {},
   "outputs": [],
   "source": [
    "def one_hot_embedding(labels):\n",
    "    labels = torch.nn.functional.one_hot(torch.tensor(labels).to(torch.int64), num_classes = c_dim)\n",
    "    return torch.squeeze(labels)"
   ]
  },
  {
   "cell_type": "code",
   "execution_count": null,
   "metadata": {},
   "outputs": [],
   "source": []
  }
 ],
 "metadata": {
  "kernelspec": {
   "display_name": "Python 3",
   "language": "python",
   "name": "python3"
  },
  "language_info": {
   "codemirror_mode": {
    "name": "ipython",
    "version": 3
   },
   "file_extension": ".py",
   "mimetype": "text/x-python",
   "name": "python",
   "nbconvert_exporter": "python",
   "pygments_lexer": "ipython3",
   "version": "3.8.3"
  }
 },
 "nbformat": 4,
 "nbformat_minor": 4
}
