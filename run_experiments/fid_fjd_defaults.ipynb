{
 "cells": [
  {
   "cell_type": "code",
   "execution_count": 2,
   "metadata": {},
   "outputs": [],
   "source": [
    "%matplotlib inline\n",
    "import numpy as np\n",
    "\n",
    "import torch\n",
    "import matplotlib.pyplot as plt\n",
    "import torchvision.transforms as transforms\n",
    "from torch.utils.data import DataLoader\n",
    "from torchvision.datasets import CIFAR10\n",
    "\n",
    "from fjd.fjd_metric import FJDMetric\n",
    "from fjd.embeddings import OneHotEmbedding, InceptionEmbedding"
   ]
  },
  {
   "cell_type": "code",
   "execution_count": 4,
   "metadata": {},
   "outputs": [],
   "source": [
    "def get_dataloaders():\n",
    "\n",
    "    transform = transforms.Compose(\n",
    "        [transforms.ToTensor(),\n",
    "         transforms.Normalize(mean=(0.5, 0.5, 0.5), \n",
    "                              std=(0.5, 0.5, 0.5))])\n",
    "\n",
    "    train_set = CIFAR10(root='./datasets/cifar10',\n",
    "                        train=True,\n",
    "                        download=True,\n",
    "                        transform=transform)\n",
    "\n",
    "    test_set = CIFAR10(root='./datasets/cifar10',\n",
    "                       train=False,\n",
    "                       download=True,\n",
    "                       transform=transform)\n",
    "\n",
    "    train_loader = DataLoader(train_set,\n",
    "                              batch_size=128,\n",
    "                              shuffle=True,\n",
    "                              drop_last=False)\n",
    "\n",
    "    test_loader = DataLoader(test_set,\n",
    "                             batch_size=128,\n",
    "                             shuffle=False,\n",
    "                             drop_last=False)\n",
    "\n",
    "    return train_loader, test_loader"
   ]
  },
  {
   "cell_type": "code",
   "execution_count": 7,
   "metadata": {},
   "outputs": [],
   "source": [
    "class SuspiciouslyGoodGAN(torch.nn.Module):\n",
    "    def __init__(self):\n",
    "        super(SuspiciouslyGoodGAN, self).__init__()\n",
    "\n",
    "        transform = transforms.Compose([\n",
    "            transforms.ToTensor(),\n",
    "            transforms.Normalize(mean=(0.5, 0.5, 0.5),\n",
    "                                 std=(0.5, 0.5, 0.5))])\n",
    "\n",
    "        test_set = CIFAR10(root='./datasets/cifar10',\n",
    "                           train=False,\n",
    "                           download=True,\n",
    "                           transform=transform)\n",
    "\n",
    "        test_loader = DataLoader(test_set,\n",
    "                                 batch_size=128,\n",
    "                                 shuffle=True,\n",
    "                                 drop_last=False,\n",
    "                                 num_workers=2)\n",
    "\n",
    "        self.test_loader = test_loader\n",
    "        self.data_iter = iter(test_loader)\n",
    "\n",
    "    def forward(self, z, y):\n",
    "        # Normally a GAN would actually do something with z and y, but for this fake GAN we ignore them\n",
    "        try:\n",
    "            samples, _ = next(self.data_iter)\n",
    "        except StopIteration:\n",
    "            # Reset dataloader if it runs out of samples\n",
    "            self.data_iter = iter(self.test_loader)\n",
    "            samples, _ = next(self.data_iter)\n",
    "        samples = samples.cuda()\n",
    "        return samples\n",
    "    \n",
    "class GANWrapper:\n",
    "    def __init__(self, model, model_checkpoint=None):\n",
    "        self.model = model\n",
    "        \n",
    "        if model_checkpoint is not None:\n",
    "            self.model_checkpoint = model_checkpoint\n",
    "            self.load_model()\n",
    "\n",
    "    def load_model(self):\n",
    "        # self.model.eval()  # uncomment to put in eval mode if desired\n",
    "        self.model = self.model.cuda()\n",
    "\n",
    "        state_dict = torch.load(self.model_checkpoint)\n",
    "        self.model.load_state_dict(state_dict)\n",
    "\n",
    "    def get_noise(self, batch_size):\n",
    "        # change the noise dimension as required\n",
    "        z = torch.cuda.FloatTensor(batch_size, 128).normal_()\n",
    "        return z\n",
    "\n",
    "    def __call__(self, y):\n",
    "        batch_size = y.size(0)\n",
    "        z = self.get_noise(batch_size)\n",
    "        samples = self.model(z, y)\n",
    "        return samples"
   ]
  },
  {
   "cell_type": "code",
   "execution_count": 8,
   "metadata": {},
   "outputs": [
    {
     "name": "stdout",
     "output_type": "stream",
     "text": [
      "Files already downloaded and verified\n",
      "Files already downloaded and verified\n",
      "Files already downloaded and verified\n"
     ]
    },
    {
     "name": "stderr",
     "output_type": "stream",
     "text": [
      "\r",
      "Computing generated distribution:   0%|                                                         | 0/79 [00:00<?, ?it/s]"
     ]
    },
    {
     "name": "stdout",
     "output_type": "stream",
     "text": [
      "Loading reference statistics from datasets/cifar_train_stats.npz\n"
     ]
    },
    {
     "name": "stderr",
     "output_type": "stream",
     "text": [
      "Computing generated distribution: 100%|████████████████████████████████████████████████| 79/79 [00:26<00:00,  2.98it/s]\n",
      "Computing generated distribution: 100%|████████████████████████████████████████████████| 79/79 [00:26<00:00,  3.01it/s]\n"
     ]
    },
    {
     "name": "stdout",
     "output_type": "stream",
     "text": [
      "FID:  3.0738064945389283\n",
      "FJD:  33.965788149474065\n",
      "Files already downloaded and verified\n",
      "Files already downloaded and verified\n",
      "Files already downloaded and verified\n"
     ]
    },
    {
     "name": "stderr",
     "output_type": "stream",
     "text": [
      "\r",
      "Computing generated distribution:   0%|                                                         | 0/79 [00:00<?, ?it/s]"
     ]
    },
    {
     "name": "stdout",
     "output_type": "stream",
     "text": [
      "Loading reference statistics from datasets/cifar_train_stats.npz\n"
     ]
    },
    {
     "name": "stderr",
     "output_type": "stream",
     "text": [
      "Computing generated distribution: 100%|████████████████████████████████████████████████| 79/79 [00:24<00:00,  3.23it/s]\n",
      "Computing generated distribution: 100%|████████████████████████████████████████████████| 79/79 [00:26<00:00,  3.00it/s]\n"
     ]
    },
    {
     "name": "stdout",
     "output_type": "stream",
     "text": [
      "FID:  3.073805515196341\n",
      "FJD:  33.50166298711497\n",
      "Files already downloaded and verified\n",
      "Files already downloaded and verified\n",
      "Files already downloaded and verified\n"
     ]
    },
    {
     "name": "stderr",
     "output_type": "stream",
     "text": [
      "\r",
      "Computing generated distribution:   0%|                                                         | 0/79 [00:00<?, ?it/s]"
     ]
    },
    {
     "name": "stdout",
     "output_type": "stream",
     "text": [
      "Loading reference statistics from datasets/cifar_train_stats.npz\n"
     ]
    },
    {
     "name": "stderr",
     "output_type": "stream",
     "text": [
      "Computing generated distribution: 100%|████████████████████████████████████████████████| 79/79 [00:26<00:00,  3.02it/s]\n",
      "Computing generated distribution: 100%|████████████████████████████████████████████████| 79/79 [00:25<00:00,  3.05it/s]\n"
     ]
    },
    {
     "name": "stdout",
     "output_type": "stream",
     "text": [
      "FID:  3.0738055765946797\n",
      "FJD:  33.340849819642244\n",
      "Files already downloaded and verified\n",
      "Files already downloaded and verified\n",
      "Files already downloaded and verified\n"
     ]
    },
    {
     "name": "stderr",
     "output_type": "stream",
     "text": [
      "\r",
      "Computing generated distribution:   0%|                                                         | 0/79 [00:00<?, ?it/s]"
     ]
    },
    {
     "name": "stdout",
     "output_type": "stream",
     "text": [
      "Loading reference statistics from datasets/cifar_train_stats.npz\n"
     ]
    },
    {
     "name": "stderr",
     "output_type": "stream",
     "text": [
      "Computing generated distribution: 100%|████████████████████████████████████████████████| 79/79 [00:25<00:00,  3.13it/s]\n",
      "Computing generated distribution: 100%|████████████████████████████████████████████████| 79/79 [00:27<00:00,  2.86it/s]\n"
     ]
    },
    {
     "name": "stdout",
     "output_type": "stream",
     "text": [
      "FID:  3.073808072888255\n",
      "FJD:  33.536421016947315\n",
      "Files already downloaded and verified\n",
      "Files already downloaded and verified\n",
      "Files already downloaded and verified\n"
     ]
    },
    {
     "name": "stderr",
     "output_type": "stream",
     "text": [
      "\r",
      "Computing generated distribution:   0%|                                                         | 0/79 [00:00<?, ?it/s]"
     ]
    },
    {
     "name": "stdout",
     "output_type": "stream",
     "text": [
      "Loading reference statistics from datasets/cifar_train_stats.npz\n"
     ]
    },
    {
     "name": "stderr",
     "output_type": "stream",
     "text": [
      "Computing generated distribution: 100%|████████████████████████████████████████████████| 79/79 [00:24<00:00,  3.25it/s]\n",
      "Computing generated distribution: 100%|████████████████████████████████████████████████| 79/79 [00:26<00:00,  2.95it/s]\n"
     ]
    },
    {
     "name": "stdout",
     "output_type": "stream",
     "text": [
      "FID:  3.0738064424569984\n",
      "FJD:  33.88407957157597\n",
      "Files already downloaded and verified\n",
      "Files already downloaded and verified\n",
      "Files already downloaded and verified\n"
     ]
    },
    {
     "name": "stderr",
     "output_type": "stream",
     "text": [
      "\r",
      "Computing generated distribution:   0%|                                                         | 0/79 [00:00<?, ?it/s]"
     ]
    },
    {
     "name": "stdout",
     "output_type": "stream",
     "text": [
      "Loading reference statistics from datasets/cifar_train_stats.npz\n"
     ]
    },
    {
     "name": "stderr",
     "output_type": "stream",
     "text": [
      "Computing generated distribution: 100%|████████████████████████████████████████████████| 79/79 [00:27<00:00,  2.83it/s]\n",
      "Computing generated distribution: 100%|████████████████████████████████████████████████| 79/79 [00:26<00:00,  3.01it/s]\n"
     ]
    },
    {
     "name": "stdout",
     "output_type": "stream",
     "text": [
      "FID:  3.0738070825161685\n",
      "FJD:  33.55603697452034\n",
      "Files already downloaded and verified\n",
      "Files already downloaded and verified\n",
      "Files already downloaded and verified\n"
     ]
    },
    {
     "name": "stderr",
     "output_type": "stream",
     "text": [
      "\r",
      "Computing generated distribution:   0%|                                                         | 0/79 [00:00<?, ?it/s]"
     ]
    },
    {
     "name": "stdout",
     "output_type": "stream",
     "text": [
      "Loading reference statistics from datasets/cifar_train_stats.npz\n"
     ]
    },
    {
     "name": "stderr",
     "output_type": "stream",
     "text": [
      "Computing generated distribution: 100%|████████████████████████████████████████████████| 79/79 [00:24<00:00,  3.18it/s]\n",
      "Computing generated distribution: 100%|████████████████████████████████████████████████| 79/79 [00:25<00:00,  3.06it/s]\n"
     ]
    },
    {
     "name": "stdout",
     "output_type": "stream",
     "text": [
      "FID:  3.0738062021222845\n",
      "FJD:  33.88526554185387\n",
      "Files already downloaded and verified\n",
      "Files already downloaded and verified\n",
      "Files already downloaded and verified\n"
     ]
    },
    {
     "name": "stderr",
     "output_type": "stream",
     "text": [
      "\r",
      "Computing generated distribution:   0%|                                                         | 0/79 [00:00<?, ?it/s]"
     ]
    },
    {
     "name": "stdout",
     "output_type": "stream",
     "text": [
      "Loading reference statistics from datasets/cifar_train_stats.npz\n"
     ]
    },
    {
     "name": "stderr",
     "output_type": "stream",
     "text": [
      "Computing generated distribution: 100%|████████████████████████████████████████████████| 79/79 [00:25<00:00,  3.12it/s]\n",
      "Computing generated distribution: 100%|████████████████████████████████████████████████| 79/79 [00:25<00:00,  3.06it/s]\n"
     ]
    },
    {
     "name": "stdout",
     "output_type": "stream",
     "text": [
      "FID:  3.0738067278910535\n",
      "FJD:  34.31001823168526\n",
      "Files already downloaded and verified\n",
      "Files already downloaded and verified\n",
      "Files already downloaded and verified\n"
     ]
    },
    {
     "name": "stderr",
     "output_type": "stream",
     "text": [
      "\r",
      "Computing generated distribution:   0%|                                                         | 0/79 [00:00<?, ?it/s]"
     ]
    },
    {
     "name": "stdout",
     "output_type": "stream",
     "text": [
      "Loading reference statistics from datasets/cifar_train_stats.npz\n"
     ]
    },
    {
     "name": "stderr",
     "output_type": "stream",
     "text": [
      "Computing generated distribution: 100%|████████████████████████████████████████████████| 79/79 [00:24<00:00,  3.23it/s]\n",
      "Computing generated distribution: 100%|████████████████████████████████████████████████| 79/79 [00:26<00:00,  3.01it/s]\n"
     ]
    },
    {
     "name": "stdout",
     "output_type": "stream",
     "text": [
      "FID:  3.0738061789299422\n",
      "FJD:  33.85215219951624\n",
      "Files already downloaded and verified\n",
      "Files already downloaded and verified\n",
      "Files already downloaded and verified\n"
     ]
    },
    {
     "name": "stderr",
     "output_type": "stream",
     "text": [
      "\r",
      "Computing generated distribution:   0%|                                                         | 0/79 [00:00<?, ?it/s]"
     ]
    },
    {
     "name": "stdout",
     "output_type": "stream",
     "text": [
      "Loading reference statistics from datasets/cifar_train_stats.npz\n"
     ]
    },
    {
     "name": "stderr",
     "output_type": "stream",
     "text": [
      "Computing generated distribution: 100%|████████████████████████████████████████████████| 79/79 [00:24<00:00,  3.23it/s]\n",
      "Computing generated distribution: 100%|████████████████████████████████████████████████| 79/79 [00:29<00:00,  2.66it/s]\n"
     ]
    },
    {
     "name": "stdout",
     "output_type": "stream",
     "text": [
      "FID:  3.073806576938182\n",
      "FJD:  33.47814025618459\n"
     ]
    }
   ],
   "source": [
    "num_exp = 10\n",
    "fid_holder = []\n",
    "fjd_holder = []\n",
    "\n",
    "for exp in range(num_exp):\n",
    "    train_loader, test_loader = get_dataloaders()\n",
    "    inception_embedding = InceptionEmbedding(parallel=False)\n",
    "    onehot_embedding = OneHotEmbedding(num_classes=10)\n",
    "    gan = SuspiciouslyGoodGAN()\n",
    "    gan = GANWrapper(gan)\n",
    "\n",
    "    fjd_metric = FJDMetric(gan=gan,\n",
    "                           reference_loader=train_loader,\n",
    "                           condition_loader=test_loader,\n",
    "                           image_embedding=inception_embedding,\n",
    "                           condition_embedding=onehot_embedding,\n",
    "                           reference_stats_path='datasets/cifar_train_stats.npz',\n",
    "                           save_reference_stats=True,\n",
    "                           samples_per_condition=1,\n",
    "                           cuda=True)\n",
    "\n",
    "    fid = fjd_metric.get_fid()\n",
    "    fjd = fjd_metric.get_fjd()\n",
    "    print('FID: ', fid)\n",
    "    print('FJD: ', fjd)\n",
    "    \n",
    "    fid_holder.append(fid)\n",
    "    fjd_holder.append(fjd)"
   ]
  },
  {
   "cell_type": "code",
   "execution_count": 9,
   "metadata": {},
   "outputs": [
    {
     "name": "stdout",
     "output_type": "stream",
     "text": [
      "fid mean and se 3.073806487007283 +- 6.990809700766761e-08\n",
      "fjd mean and se 33.73104147485149 +- 0.028098404907149994\n"
     ]
    }
   ],
   "source": [
    "import statistics\n",
    "fid_mean = sum(fid_holder) / len(fid_holder)\n",
    "fid_var = sum((x-fid_mean)**2 for x in fid_holder) / len(fid_holder)\n",
    "fid_stdev = fid_var**0.5\n",
    "fid_se = fid_stdev / len(fid_holder)\n",
    "print('fid mean and se', fid_mean, '+-', fid_se)\n",
    "\n",
    "import statistics\n",
    "fid_mean = sum(fjd_holder) / len(fjd_holder)\n",
    "fid_var = sum((x-fid_mean)**2 for x in fjd_holder) / len(fjd_holder)\n",
    "fid_stdev = fid_var**0.5\n",
    "fid_se = fid_stdev / len(fjd_holder)\n",
    "print('fjd mean and se', fid_mean, '+-', fid_se)"
   ]
  },
  {
   "cell_type": "code",
   "execution_count": null,
   "metadata": {},
   "outputs": [],
   "source": []
  }
 ],
 "metadata": {
  "kernelspec": {
   "display_name": "Python 3",
   "language": "python",
   "name": "python3"
  },
  "language_info": {
   "codemirror_mode": {
    "name": "ipython",
    "version": 3
   },
   "file_extension": ".py",
   "mimetype": "text/x-python",
   "name": "python",
   "nbconvert_exporter": "python",
   "pygments_lexer": "ipython3",
   "version": "3.8.3"
  }
 },
 "nbformat": 4,
 "nbformat_minor": 4
}
